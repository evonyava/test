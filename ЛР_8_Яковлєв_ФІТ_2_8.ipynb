{
  "nbformat": 4,
  "nbformat_minor": 0,
  "metadata": {
    "colab": {
      "provenance": [],
      "authorship_tag": "ABX9TyNUqnND0PFUgR/2eNNrT2Lj",
      "include_colab_link": true
    },
    "kernelspec": {
      "name": "python3",
      "display_name": "Python 3"
    },
    "language_info": {
      "name": "python"
    }
  },
  "cells": [
    {
      "cell_type": "markdown",
      "metadata": {
        "id": "view-in-github",
        "colab_type": "text"
      },
      "source": [
        "<a href=\"https://colab.research.google.com/github/evonyava/test/blob/main/%D0%9B%D0%A0_8_%D0%AF%D0%BA%D0%BE%D0%B2%D0%BB%D1%94%D0%B2_%D0%A4%D0%86%D0%A2_2_8.ipynb\" target=\"_parent\"><img src=\"https://colab.research.google.com/assets/colab-badge.svg\" alt=\"Open In Colab\"/></a>"
      ]
    },
    {
      "cell_type": "code",
      "execution_count": null,
      "metadata": {
        "id": "EnqzKfV7YvJA"
      },
      "outputs": [],
      "source": [
        "import numpy as np\n",
        "import matplotlib.pyplot as plt\n",
        "\n",
        "x_values = np.array([2.4, 2.6, 2.8, 3.0, 3.2, 3.4, 3.6, 3.8, 4.0, 4.2, 4.4, 4.6])\n",
        "y_values = np.array([3.526, 3.782, 3.945, 4.043, 4.104, 4.155, 4.222, 4.331, 4.507, 4.775, 5.159, 5.683])\n",
        "\n",
        "def divided_diffs(x, y):\n",
        "    n = len(y)\n",
        "    coef = np.zeros([n, n])\n",
        "    coef[:,0] = y\n",
        "\n",
        "    for j in range(1, n):\n",
        "        for i in range(n - j):\n",
        "            coef[i][j] = (coef[i+1][j-1] - coef[i][j-1]) / (x[i+j] - x[i])\n",
        "\n",
        "    return coef[0, :]\n",
        "\n",
        "def newton_poly(coef, x_data, x):\n",
        "    n = len(coef)\n",
        "    p = coef[0]\n",
        "    for k in range(1, n):\n",
        "        p = p + coef[k] * np.prod([x - x_data[i] for i in range(k)])\n",
        "    return p\n",
        "\n",
        "def newton_derivative(coef, x_data, x):\n",
        "    n = len(coef)\n",
        "    first_derivative = coef[1]\n",
        "    second_derivative = 0\n",
        "\n",
        "    for k in range(2, n):\n",
        "        prod = np.prod([x - x_data[i] for i in range(k-1)])\n",
        "        first_derivative += coef[k] * prod\n",
        "        if k >= 2:\n",
        "            second_derivative += coef[k] * np.prod([x - x_data[i] for i in range(k-2)])\n",
        "\n",
        "    return first_derivative, second_derivative\n",
        "\n",
        "coefficients = divided_diffs(x_values, y_values)\n",
        "\n",
        "x_target = 3.0\n",
        "\n",
        "first_deriv, second_deriv = newton_derivative(coefficients, x_values, x_target)\n",
        "\n",
        "print(f\"Перша похідна в точці x = {x_target}: {first_deriv:.4f}\")\n",
        "print(f\"Друга похідна в точці x = {x_target}: {second_deriv:.4f}\")"
      ]
    }
  ]
}