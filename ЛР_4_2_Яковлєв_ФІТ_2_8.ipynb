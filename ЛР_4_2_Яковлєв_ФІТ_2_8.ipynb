{
  "nbformat": 4,
  "nbformat_minor": 0,
  "metadata": {
    "colab": {
      "provenance": [],
      "authorship_tag": "ABX9TyNcjL9jcRaU44lo4CrLAu2m",
      "include_colab_link": true
    },
    "kernelspec": {
      "name": "python3",
      "display_name": "Python 3"
    },
    "language_info": {
      "name": "python"
    }
  },
  "cells": [
    {
      "cell_type": "markdown",
      "metadata": {
        "id": "view-in-github",
        "colab_type": "text"
      },
      "source": [
        "<a href=\"https://colab.research.google.com/github/evonyava/test/blob/main/%D0%9B%D0%A0_4_2_%D0%AF%D0%BA%D0%BE%D0%B2%D0%BB%D1%94%D0%B2_%D0%A4%D0%86%D0%A2_2_8.ipynb\" target=\"_parent\"><img src=\"https://colab.research.google.com/assets/colab-badge.svg\" alt=\"Open In Colab\"/></a>"
      ]
    },
    {
      "cell_type": "code",
      "execution_count": null,
      "metadata": {
        "id": "9dK7s8o9d8HC"
      },
      "outputs": [],
      "source": [
        "import numpy as np\n",
        "\n",
        "N = 5\n",
        "M = 4\n",
        "\n",
        "A = np.random.randint(-10, 10, size=(N, M))\n",
        "print(\"Матриця A:\\n\", A)\n",
        "\n",
        "abs_sum_columns = np.sum(np.abs(A), axis=0)\n",
        "max_sum_column_index = np.argmax(abs_sum_columns)\n",
        "print(\"\\nІндекс стовпця з максимальною сумою абсолютних значень:\", max_sum_column_index)\n",
        "\n",
        "min_element_in_column = np.min(A[:, max_sum_column_index])\n",
        "print(\"\\nНайменший елемент у стовпці:\", min_element_in_column)"
      ]
    }
  ]
}