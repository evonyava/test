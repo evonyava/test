{
  "nbformat": 4,
  "nbformat_minor": 0,
  "metadata": {
    "colab": {
      "provenance": [],
      "authorship_tag": "ABX9TyMxsFknV1cNxLHLImrxKR/n",
      "include_colab_link": true
    },
    "kernelspec": {
      "name": "python3",
      "display_name": "Python 3"
    },
    "language_info": {
      "name": "python"
    }
  },
  "cells": [
    {
      "cell_type": "markdown",
      "metadata": {
        "id": "view-in-github",
        "colab_type": "text"
      },
      "source": [
        "<a href=\"https://colab.research.google.com/github/evonyava/test/blob/main/%D0%9B%D0%A0_10_%D0%AF%D0%BA%D0%BE%D0%B2%D0%BB%D1%94%D0%B2_%D0%A4%D0%86%D0%A2_2_8.ipynb\" target=\"_parent\"><img src=\"https://colab.research.google.com/assets/colab-badge.svg\" alt=\"Open In Colab\"/></a>"
      ]
    },
    {
      "cell_type": "code",
      "execution_count": null,
      "metadata": {
        "id": "4kLzbDRAefll"
      },
      "outputs": [],
      "source": [
        "import numpy as np\n",
        "import matplotlib.pyplot as plt\n",
        "from sympy import symbols, cos, diff, lambdify\n",
        "\n",
        "x = symbols('x')\n",
        "f = cos(4*x) - x + 1\n",
        "\n",
        "f_prime_1 = diff(f, x)\n",
        "f_prime_2 = diff(f_prime_1, x)\n",
        "f_prime_3 = diff(f_prime_2, x)\n",
        "\n",
        "print(\"Перша похідна:\", f_prime_1)\n",
        "print(\"Друга похідна:\", f_prime_2)\n",
        "print(\"Третя похідна:\", f_prime_3)\n",
        "\n",
        "f_lambdified = lambdify(x, f)\n",
        "f_prime_1_lambdified = lambdify(x, f_prime_1)\n",
        "f_prime_2_lambdified = lambdify(x, f_prime_2)\n",
        "f_prime_3_lambdified = lambdify(x, f_prime_3)\n",
        "\n",
        "def taylor_polynomial(f, x0, degree):\n",
        "    taylor = f.subs(x, x0)\n",
        "    for i in range(1, degree + 1):\n",
        "        taylor += (diff(f, x, i).subs(x, x0) / np.math.factorial(i)) * (x - x0)**i\n",
        "    return taylor\n",
        "\n",
        "x0 = 0\n",
        "degree = 3\n",
        "taylor_poly = taylor_polynomial(f, x0, degree)\n",
        "print(\"Поліном Тейлора третього степеня:\", taylor_poly)\n",
        "\n",
        "taylor_poly_lambdified = lambdify(x, taylor_poly)\n",
        "\n",
        "x_values = np.linspace(-1, 1, 400)\n",
        "f_values = f_lambdified(x_values)\n",
        "taylor_values = taylor_poly_lambdified(x_values)\n",
        "\n",
        "plt.plot(x_values, f_values, label=\"f(x) = cos(4x) - x + 1\", color='blue')\n",
        "plt.plot(x_values, taylor_values, label=\"Поліном Тейлора (3-й степінь)\", linestyle='--', color='red')\n",
        "\n",
        "plt.axhline(0, color='black',linewidth=0.5)\n",
        "plt.axvline(0, color='black',linewidth=0.5)\n",
        "plt.legend()\n",
        "plt.title(\"Функція та поліном Тейлора\")\n",
        "plt.xlabel(\"x\")\n",
        "plt.ylabel(\"y\")\n",
        "plt.grid(True)\n",
        "plt.show()\n",
        "\n",
        "error = np.abs(f_values - taylor_values)\n",
        "print(\"Максимальна похибка при |x| ≤ 1:\", np.max(error))"
      ]
    }
  ]
}