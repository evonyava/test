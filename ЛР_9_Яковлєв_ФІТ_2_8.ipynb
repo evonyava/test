{
  "nbformat": 4,
  "nbformat_minor": 0,
  "metadata": {
    "colab": {
      "provenance": [],
      "authorship_tag": "ABX9TyOMyWi+QLQGh+MYKoNHAgds",
      "include_colab_link": true
    },
    "kernelspec": {
      "name": "python3",
      "display_name": "Python 3"
    },
    "language_info": {
      "name": "python"
    }
  },
  "cells": [
    {
      "cell_type": "markdown",
      "metadata": {
        "id": "view-in-github",
        "colab_type": "text"
      },
      "source": [
        "<a href=\"https://colab.research.google.com/github/evonyava/test/blob/main/%D0%9B%D0%A0_9_%D0%AF%D0%BA%D0%BE%D0%B2%D0%BB%D1%94%D0%B2_%D0%A4%D0%86%D0%A2_2_8.ipynb\" target=\"_parent\"><img src=\"https://colab.research.google.com/assets/colab-badge.svg\" alt=\"Open In Colab\"/></a>"
      ]
    },
    {
      "cell_type": "code",
      "execution_count": null,
      "metadata": {
        "id": "bTmNK_ctcNPX"
      },
      "outputs": [],
      "source": [
        "import numpy as np\n",
        "import matplotlib.pyplot as plt\n",
        "from scipy.interpolate import CubicSpline\n",
        "\n",
        "x_values = np.array([0, 0.2, 0.5, 0.9, 1.5])\n",
        "y_values = np.array([1.75, 2.68, 1.24, 0.72, 1.35])\n",
        "\n",
        "cs = CubicSpline(x_values, y_values, bc_type='natural')\n",
        "\n",
        "for i in range(len(x_values) - 1):\n",
        "    print(f\"Сегмент {i}:\")\n",
        "    print(f\"Коефіцієнти кубічного многочлена: {cs.c[:, i]}\")\n",
        "\n",
        "y_spline_values = cs(x_values)\n",
        "print(\"\\nЗначення сплайну у вузлових точках:\")\n",
        "for i, (y_spline, y_original) in enumerate(zip(y_spline_values, y_values)):\n",
        "    print(f\"x = {x_values[i]}: Сплайн = {y_spline}, Оригінал = {y_original}\")\n",
        "\n",
        "def calculate_spline_at(x_points):\n",
        "    return cs(x_points)\n",
        "\n",
        "user_x = np.array([0.3, 0.7, 1.0])\n",
        "user_y = calculate_spline_at(user_x)\n",
        "\n",
        "print(\"\\nЗначення сплайну у точках користувача:\")\n",
        "for i, x in enumerate(user_x):\n",
        "    print(f\"x = {x}: Сплайн = {user_y[i]}\")\n",
        "\n",
        "x_new = np.linspace(min(x_values), max(x_values), 100)\n",
        "y_new = cs(x_new)\n",
        "\n",
        "plt.plot(x_values, y_values, 'o', label='Табличні точки')\n",
        "plt.plot(x_new, y_new, label='Кубічний сплайн')\n",
        "plt.scatter(user_x, user_y, color='red', label='Точки користувача', zorder=5)\n",
        "plt.title(\"Кубічний сплайн-інтерполяція\")\n",
        "plt.xlabel(\"x\")\n",
        "plt.ylabel(\"y\")\n",
        "plt.legend()\n",
        "plt.grid(True)\n",
        "plt.show()"
      ]
    }
  ]
}