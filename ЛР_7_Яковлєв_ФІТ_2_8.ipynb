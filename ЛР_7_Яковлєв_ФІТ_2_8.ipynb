{
  "nbformat": 4,
  "nbformat_minor": 0,
  "metadata": {
    "colab": {
      "provenance": [],
      "authorship_tag": "ABX9TyNYlx1NuocDlJV2CB+RQ86L",
      "include_colab_link": true
    },
    "kernelspec": {
      "name": "python3",
      "display_name": "Python 3"
    },
    "language_info": {
      "name": "python"
    }
  },
  "cells": [
    {
      "cell_type": "markdown",
      "metadata": {
        "id": "view-in-github",
        "colab_type": "text"
      },
      "source": [
        "<a href=\"https://colab.research.google.com/github/evonyava/test/blob/main/%D0%9B%D0%A0_7_%D0%AF%D0%BA%D0%BE%D0%B2%D0%BB%D1%94%D0%B2_%D0%A4%D0%86%D0%A2_2_8.ipynb\" target=\"_parent\"><img src=\"https://colab.research.google.com/assets/colab-badge.svg\" alt=\"Open In Colab\"/></a>"
      ]
    },
    {
      "cell_type": "code",
      "execution_count": null,
      "metadata": {
        "id": "jKCyfX8heaei"
      },
      "outputs": [],
      "source": [
        "import numpy as np\n",
        "import matplotlib.pyplot as plt\n",
        "\n",
        "x_values = np.array([0.45, 0.46, 0.47, 0.48, 0.49, 0.50, 0.51, 0.52, 0.53, 0.54, 0.55])\n",
        "y_values = np.array([20.1946, 19.6133, 18.9425, 18.1746, 17.3010, 16.3123, 15.1984, 13.9484, 12.5508, 10.9937, 9.2647])\n",
        "\n",
        "def divided_diffs(x, y):\n",
        "    n = len(y)\n",
        "    coef = np.zeros([n, n])\n",
        "    coef[:,0] = y\n",
        "\n",
        "    for j in range(1, n):\n",
        "        for i in range(n - j):\n",
        "            coef[i][j] = (coef[i+1][j-1] - coef[i][j-1]) / (x[i+j] - x[i])\n",
        "\n",
        "    return coef[0, :]\n",
        "\n",
        "def newton_poly(coef, x_data, x):\n",
        "    n = len(coef)\n",
        "    p = coef[0]\n",
        "    for k in range(1, n):\n",
        "        p = p + coef[k] * np.prod([x - x_data[i] for i in range(k)])\n",
        "    return p\n",
        "\n",
        "coefficients = divided_diffs(x_values, y_values)\n",
        "\n",
        "x_plot = np.linspace(min(x_values), max(x_values), 500)\n",
        "y_plot = [newton_poly(coefficients, x_values, xi) for xi in x_plot]\n",
        "\n",
        "plt.plot(x_values, y_values, 'o', label='Дані з таблиці')\n",
        "plt.plot(x_plot, y_plot, label='Інтерполяційний многочлен Ньютона')\n",
        "plt.xlabel('x')\n",
        "plt.ylabel('f(x)')\n",
        "plt.legend()\n",
        "plt.title('Інтерполяція методом Ньютона')\n",
        "plt.grid(True)\n",
        "plt.show()\n",
        "\n",
        "x_var30 = [0.461, 0.543]\n",
        "\n",
        "print(\"\\nЗначення для варіанта 30:\")\n",
        "for x in x_var30:\n",
        "    print(f\"f({x}) = {newton_poly(coefficients, x_values, x)}\")"
      ]
    }
  ]
}