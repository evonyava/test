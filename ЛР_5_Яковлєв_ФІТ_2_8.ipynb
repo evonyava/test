{
  "nbformat": 4,
  "nbformat_minor": 0,
  "metadata": {
    "colab": {
      "provenance": [],
      "authorship_tag": "ABX9TyPQvqpo9anQwCa0f5POy9WO",
      "include_colab_link": true
    },
    "kernelspec": {
      "name": "python3",
      "display_name": "Python 3"
    },
    "language_info": {
      "name": "python"
    }
  },
  "cells": [
    {
      "cell_type": "markdown",
      "metadata": {
        "id": "view-in-github",
        "colab_type": "text"
      },
      "source": [
        "<a href=\"https://colab.research.google.com/github/evonyava/test/blob/main/%D0%9B%D0%A0_5_%D0%AF%D0%BA%D0%BE%D0%B2%D0%BB%D1%94%D0%B2_%D0%A4%D0%86%D0%A2_2_8.ipynb\" target=\"_parent\"><img src=\"https://colab.research.google.com/assets/colab-badge.svg\" alt=\"Open In Colab\"/></a>"
      ]
    },
    {
      "cell_type": "code",
      "execution_count": null,
      "metadata": {
        "id": "PVKTTzpo7fmn"
      },
      "outputs": [],
      "source": [
        "import numpy as np\n",
        "\n",
        "def g1(x):\n",
        "    return 1 - np.cos(x - 1)\n",
        "\n",
        "def g2(y):\n",
        "    return (1.6 - np.sin(y)) / 2\n",
        "\n",
        "def simple_iteration(x0, y0, tol=0.001, max_iter=100):\n",
        "    x, y = x0, y0\n",
        "    for i in range(max_iter):\n",
        "        x_new = g2(y)\n",
        "        y_new = g1(x)\n",
        "\n",
        "        if abs(x_new - x) < tol and abs(y_new - y) < tol:\n",
        "            return x_new, y_new, i\n",
        "\n",
        "        x, y = x_new, y_new\n",
        "\n",
        "    raise ValueError(\"Метод не збігся за вказану кількість ітерацій\")\n",
        "\n",
        "x0, y0 = 0.5, 0.5\n",
        "\n",
        "try:\n",
        "    x_root, y_root, iterations = simple_iteration(x0, y0)\n",
        "    print(f\"Знайдені корені: x = {x_root}, y = {y_root} за {iterations} ітерацій\")\n",
        "except ValueError as e:\n",
        "    print(e)\n",
        "\n"
      ]
    }
  ]
}