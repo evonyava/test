{
  "nbformat": 4,
  "nbformat_minor": 0,
  "metadata": {
    "colab": {
      "provenance": [],
      "authorship_tag": "ABX9TyPsrgGiromXxM1yQVH9MPUf",
      "include_colab_link": true
    },
    "kernelspec": {
      "name": "python3",
      "display_name": "Python 3"
    },
    "language_info": {
      "name": "python"
    }
  },
  "cells": [
    {
      "cell_type": "markdown",
      "metadata": {
        "id": "view-in-github",
        "colab_type": "text"
      },
      "source": [
        "<a href=\"https://colab.research.google.com/github/evonyava/test/blob/main/%D0%9B%D0%A0_2_%D0%AF%D0%BA%D0%BE%D0%B2%D0%BB%D1%94%D0%B2_%D0%A4%D0%86%D0%A2_2_8.ipynb\" target=\"_parent\"><img src=\"https://colab.research.google.com/assets/colab-badge.svg\" alt=\"Open In Colab\"/></a>"
      ]
    },
    {
      "cell_type": "markdown",
      "source": [],
      "metadata": {
        "id": "mG7nTWikJ0Eg"
      }
    },
    {
      "cell_type": "markdown",
      "source": [
        "# **Лабораторна робота №2 Яковлєв Іван Володимирович ФІТ 2-8 Варіант 29**"
      ],
      "metadata": {
        "id": "BEVCYBTIJ1pr"
      }
    },
    {
      "cell_type": "code",
      "source": [
        "import numpy as np\n",
        "\n",
        "def f(x):\n",
        "    return 2*x**4 + 4*x**3 - x**2 - 3*x - 1\n",
        "\n",
        "def bisection_method(a, b, tol=0.0001):\n",
        "    if f(a) * f(b) >= 0:\n",
        "        raise ValueError(\"f(a) і f(b) повинні мати різні знаки.\")\n",
        "\n",
        "    c = a\n",
        "    while (b - a) / 2 > tol:\n",
        "        c = (a + b) / 2\n",
        "        if f(c) == 0:\n",
        "            break\n",
        "        elif f(a) * f(c) < 0:\n",
        "            b = c\n",
        "        else:\n",
        "            a = c\n",
        "    return c\n",
        "\n",
        "def secant_method(a, b, tol=0.0001):\n",
        "    if f(a) * f(b) >= 0:\n",
        "        raise ValueError(\"f(a) і f(b) повинні мати різні знаки.\")\n",
        "\n",
        "    while abs(b - a) >= tol:\n",
        "        fa = f(a)\n",
        "        fb = f(b)\n",
        "        c = b - fb * (b - a) / (fb - fa)\n",
        "\n",
        "        if f(c) == 0 or abs(b - a) < tol:\n",
        "            return c\n",
        "        a, b = b, c\n",
        "    return c\n",
        "\n",
        "intervals = [(-2, -1.5), (-1.5, -1), (0, 0.5), (0.5, 1)]\n",
        "\n",
        "print(\"Метод половинного ділення:\")\n",
        "for a, b in intervals:\n",
        "    try:\n",
        "        root = bisection_method(a, b)\n",
        "        print(f\"Корінь у інтервалі [{a}, {b}]: {root}\")\n",
        "    except ValueError as e:\n",
        "        print(f\"Інтервал [{a}, {b}] не містить кореня або ф(a) та ф(b) мають однакові знаки.\")\n",
        "\n",
        "print(\"\\nМетод хорд:\")\n",
        "for a, b in intervals:\n",
        "    try:\n",
        "        root = secant_method(a, b)\n",
        "        print(f\"Корінь у інтервалі [{a}, {b}]: {root}\")\n",
        "    except ValueError as e:\n",
        "        print(f\"Інтервал [{a}, {b}] не містить кореня або ф(a) та ф(b) мають однакові знаки.\")"
      ],
      "metadata": {
        "id": "2ZWm4k2VKBfR"
      },
      "execution_count": null,
      "outputs": []
    }
  ]
}