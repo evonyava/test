{
  "nbformat": 4,
  "nbformat_minor": 0,
  "metadata": {
    "colab": {
      "provenance": [],
      "authorship_tag": "ABX9TyMuDURkyo86+6EyctM95pH0",
      "include_colab_link": true
    },
    "kernelspec": {
      "name": "python3",
      "display_name": "Python 3"
    },
    "language_info": {
      "name": "python"
    }
  },
  "cells": [
    {
      "cell_type": "markdown",
      "metadata": {
        "id": "view-in-github",
        "colab_type": "text"
      },
      "source": [
        "<a href=\"https://colab.research.google.com/github/evonyava/test/blob/main/%D0%9B%D0%A0_11_%D0%AF%D0%BA%D0%BE%D0%B2%D0%BB%D1%94%D0%B2_%D0%A4%D0%86%D0%A2_2_8.ipynb\" target=\"_parent\"><img src=\"https://colab.research.google.com/assets/colab-badge.svg\" alt=\"Open In Colab\"/></a>"
      ]
    },
    {
      "cell_type": "code",
      "execution_count": null,
      "metadata": {
        "id": "5YTWFnSRAEDj"
      },
      "outputs": [],
      "source": [
        "import numpy as np\n",
        "import matplotlib.pyplot as plt\n",
        "def f(x):\n",
        "    return np.cos(4*x) - x + 1\n",
        "\n",
        "x_values = np.linspace(0.1, 1.0, 10)\n",
        "y_values = f(x_values)\n",
        "\n",
        "linear_coeffs = np.polyfit(x_values, y_values, 1)\n",
        "linear_fit = np.polyval(linear_coeffs, x_values)\n",
        "\n",
        "quadratic_coeffs = np.polyfit(x_values, y_values, 2)\n",
        "quadratic_fit = np.polyval(quadratic_coeffs, x_values)\n",
        "\n",
        "print(\"Коефіцієнти лінійного наближення:\", linear_coeffs)\n",
        "print(\"Коефіцієнти квадратичного наближення:\", quadratic_coeffs)\n",
        "\n",
        "plt.figure(figsize=(10, 6))\n",
        "\n",
        "plt.plot(x_values, y_values, 'bo', label='Точки функції f(x)')\n",
        "plt.plot(x_values, f(x_values), 'b-', label='Функція f(x)')\n",
        "\n",
        "plt.plot(x_values, linear_fit, 'r--', label='Лінійне наближення')\n",
        "\n",
        "plt.plot(x_values, quadratic_fit, 'g--', label='Квадратичне наближення')\n",
        "\n",
        "plt.xlabel('x')\n",
        "plt.ylabel('f(x)')\n",
        "plt.title('Наближення прямою та параболою методом найменших квадратів')\n",
        "plt.legend()\n",
        "plt.grid(True)\n",
        "plt.show()\n",
        "\n"
      ]
    }
  ]
}