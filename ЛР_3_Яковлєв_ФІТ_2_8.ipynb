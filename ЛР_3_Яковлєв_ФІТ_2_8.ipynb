{
  "nbformat": 4,
  "nbformat_minor": 0,
  "metadata": {
    "colab": {
      "provenance": [],
      "authorship_tag": "ABX9TyMIOZZZDZawZL4ntb43/ftG",
      "include_colab_link": true
    },
    "kernelspec": {
      "name": "python3",
      "display_name": "Python 3"
    },
    "language_info": {
      "name": "python"
    }
  },
  "cells": [
    {
      "cell_type": "markdown",
      "metadata": {
        "id": "view-in-github",
        "colab_type": "text"
      },
      "source": [
        "<a href=\"https://colab.research.google.com/github/evonyava/test/blob/main/%D0%9B%D0%A0_3_%D0%AF%D0%BA%D0%BE%D0%B2%D0%BB%D1%94%D0%B2_%D0%A4%D0%86%D0%A2_2_8.ipynb\" target=\"_parent\"><img src=\"https://colab.research.google.com/assets/colab-badge.svg\" alt=\"Open In Colab\"/></a>"
      ]
    },
    {
      "cell_type": "code",
      "execution_count": null,
      "metadata": {
        "id": "jxFQeN8dlNSl"
      },
      "outputs": [],
      "source": [
        "import numpy as np\n",
        "\n",
        "def f(x):\n",
        "    return 2*x**4 + 4*x**3 - x**2 - 3*x - 1\n",
        "\n",
        "def f_prime(x):\n",
        "    return 8*x**3 + 12*x**2 - 2*x - 3\n",
        "\n",
        "def newton_method(f, f_prime, x0, tol=1e-5, max_iter=1000):\n",
        "    x_n = x0\n",
        "    for n in range(max_iter):\n",
        "        fx_n = f(x_n)\n",
        "        fpx_n = f_prime(x_n)\n",
        "\n",
        "        if fpx_n == 0:\n",
        "            print(\"Похідна дорівнює нулю, спробуйте інше початкове наближення.\")\n",
        "            return None\n",
        "\n",
        "        if abs(fx_n) < tol:\n",
        "            print(f\"Знайдено корінь: x = {x_n:.6f}, кількість ітерацій: {n}\")\n",
        "            return x_n\n",
        "\n",
        "        x_n = x_n - fx_n / fpx_n\n",
        "\n",
        "    print(\"Максимальна кількість ітерацій досягнута\")\n",
        "    return None\n",
        "\n",
        "x0 = 0.5\n",
        "\n",
        "root = newton_method(f, f_prime, x0)\n"
      ]
    },
    {
      "cell_type": "code",
      "source": [
        "from lab3_1 import f, f_prime, newton_method\n",
        "\n",
        "\n",
        "def chord_method(f, a, b, tol=1e-5):\n",
        "    if f(a) * f(b) >= 0:\n",
        "        print(\"Метод хорд не підходить для цього інтервалу.\")\n",
        "        return None\n",
        "    x0 = (a * f(b) - b * f(a)) / (f(b) - f(a))\n",
        "    return x0\n",
        "\n",
        "def combined_method(f, f_prime, a, b, tol=1e-5, max_iter=1000):\n",
        "    x0 = chord_method(f, a, b, tol)\n",
        "    if x0 is not None:\n",
        "        return newton_method(f, f_prime, x0, tol, max_iter)\n",
        "    return None\n",
        "\n",
        "a = 0\n",
        "b = 1\n",
        "\n",
        "combined_root = combined_method(f, f_prime, a, b)\n"
      ],
      "metadata": {
        "id": "6syDx83mlT3B"
      },
      "execution_count": null,
      "outputs": []
    }
  ]
}