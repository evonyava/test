{
  "nbformat": 4,
  "nbformat_minor": 0,
  "metadata": {
    "colab": {
      "provenance": [],
      "authorship_tag": "ABX9TyNA1tq3eVgj4G24TuvE+tiW",
      "include_colab_link": true
    },
    "kernelspec": {
      "name": "python3",
      "display_name": "Python 3"
    },
    "language_info": {
      "name": "python"
    }
  },
  "cells": [
    {
      "cell_type": "markdown",
      "metadata": {
        "id": "view-in-github",
        "colab_type": "text"
      },
      "source": [
        "<a href=\"https://colab.research.google.com/github/evonyava/test/blob/main/%D0%9B%D0%A0_1_%D0%AF%D0%BA%D0%BE%D0%B2%D0%BB%D1%94%D0%B2.ipynb\" target=\"_parent\"><img src=\"https://colab.research.google.com/assets/colab-badge.svg\" alt=\"Open In Colab\"/></a>"
      ]
    },
    {
      "cell_type": "markdown",
      "source": [
        "# **Яковлєв Іван Володимирович**\n",
        "ФІТ 2-8\n",
        "Лабораторна робота №1\n",
        "Варіант 29\n"
      ],
      "metadata": {
        "id": "bFDvbhyKtZVI"
      }
    },
    {
      "cell_type": "code",
      "source": [
        "import numpy as np\n",
        "def f(x,y):\n",
        "    return np.abs(x-y)/np.abs(x)\n",
        "def main():\n",
        "    x1 = np.sqrt(66)\n",
        "    x2 =7/3\n",
        "    x1_1 = 8.12\n",
        "    x2_2 = 2.33\n",
        "\n",
        "    rel_error_x1 = f(x1,x1_1)\n",
        "    rel_error_x2 = f(x2,x2_2)\n",
        "\n",
        "    if rel_error_x1 < rel_error_x2:\n",
        "        print(\"Перша рівність точніше з відносною похибкою:\", round(rel_error_x1, 5))\n",
        "    elif rel_error_x2 < rel_error_x1:\n",
        "        print(\"Друга рівність точніше з відносною похибкою:\", round(rel_error_x2, 5))\n",
        "    else:\n",
        "        print(\"Обидві рівності мають однакову точність з відносною похибкою:\", round(rel_error_x2, 5))\n",
        "\n",
        "if __name__ == \"__main__\":\n",
        " main()\n"
      ],
      "metadata": {
        "id": "KU_0Jxzstv--"
      },
      "execution_count": null,
      "outputs": []
    }
  ]
}