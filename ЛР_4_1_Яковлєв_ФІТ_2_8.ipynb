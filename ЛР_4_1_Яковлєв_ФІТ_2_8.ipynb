{
  "nbformat": 4,
  "nbformat_minor": 0,
  "metadata": {
    "colab": {
      "provenance": [],
      "authorship_tag": "ABX9TyMWtZf7o5VqD7xDNsnAJota",
      "include_colab_link": true
    },
    "kernelspec": {
      "name": "python3",
      "display_name": "Python 3"
    },
    "language_info": {
      "name": "python"
    }
  },
  "cells": [
    {
      "cell_type": "markdown",
      "metadata": {
        "id": "view-in-github",
        "colab_type": "text"
      },
      "source": [
        "<a href=\"https://colab.research.google.com/github/evonyava/test/blob/main/%D0%9B%D0%A0_4_1_%D0%AF%D0%BA%D0%BE%D0%B2%D0%BB%D1%94%D0%B2_%D0%A4%D0%86%D0%A2_2_8.ipynb\" target=\"_parent\"><img src=\"https://colab.research.google.com/assets/colab-badge.svg\" alt=\"Open In Colab\"/></a>"
      ]
    },
    {
      "cell_type": "code",
      "execution_count": null,
      "metadata": {
        "id": "BYQh3zPfcwHF"
      },
      "outputs": [],
      "source": [
        "import numpy as np\n",
        "from numpy.linalg import matrix_power, det, inv, matrix_rank, solve\n",
        "\n",
        "# 1\n",
        "A = np.array([[1, 4], [2, -1]])\n",
        "B = np.array([[2, -4], [-3, 1]])\n",
        "C = np.dot(A, B) - np.dot(B, A)\n",
        "print(\"1. Матриця C = AB - BA:\\n\", C)\n",
        "\n",
        "# 2\n",
        "M = np.array([[-1, 0], [2, 1]])\n",
        "M_squared = matrix_power(M, 2)\n",
        "print(\"\\n2. Матриця M^2:\\n\", M_squared)\n",
        "\n",
        "# 3\n",
        "M1 = np.array([[3, 5], [6, -1]])\n",
        "M2 = np.array([[2, 1], [-3, 2]])\n",
        "M_product = np.dot(M1, M2)\n",
        "print(\"\\n3. Добуток матриць M1 і M2:\\n\", M_product)\n",
        "\n",
        "# 4\n",
        "M3 = np.array([[2, 3, 4], [1, 0, 6], [7, 8, 9]])\n",
        "det_M3 = det(M3)\n",
        "print(\"\\n4. Визначник матриці M3:\\n\", det_M3)\n",
        "\n",
        "# 5\n",
        "M4 = np.array([[1, 2, 3, 4], [-2, 1, -4, 3], [3, -4, 1, -2], [4, 3, -2, 1]])\n",
        "det_M4 = det(M4)\n",
        "print(\"\\n5. Визначник матриці M4:\\n\", det_M4)\n",
        "\n",
        "# 6\n",
        "M5 = np.array([[1, 2, -3], [0, 1, 2], [0, 0, 1]])\n",
        "M5_inv = inv(M5)\n",
        "print(\"\\n6. Обернена матриця до M5:\\n\", M5_inv)\n",
        "\n",
        "# 7\n",
        "M6 = np.array([[1, 2, 3, 4], [3, -1, 2, 5], [4, 3, -2, 1]])\n",
        "rank_M6 = matrix_rank(M6)\n",
        "print(\"\\n7. Ранг матриці M6:\\n\", rank_M6)\n",
        "\n",
        "# 8\n",
        "coefficients = np.array([[14, 4, 6], [5, -3, 2], [10, -11, 5]])\n",
        "constants = np.array([30, 15, 36])\n",
        "\n",
        "solution_matrix_method = np.dot(inv(coefficients), constants)\n",
        "print(\"\\n8. Розв'язок системи рівнянь за допомогою оберненої матриці:\\n\", solution_matrix_method)\n",
        "\n",
        "solution_gauss_method = solve(coefficients, constants)\n",
        "print(\"\\n8. Розв'язок системи рівнянь за допомогою функції solve:\\n\", solution_gauss_method)"
      ]
    }
  ]
}