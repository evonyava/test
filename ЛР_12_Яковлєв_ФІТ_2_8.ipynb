{
  "nbformat": 4,
  "nbformat_minor": 0,
  "metadata": {
    "colab": {
      "provenance": [],
      "authorship_tag": "ABX9TyOjE5EGCEeiz0oV4qy2rZ35",
      "include_colab_link": true
    },
    "kernelspec": {
      "name": "python3",
      "display_name": "Python 3"
    },
    "language_info": {
      "name": "python"
    }
  },
  "cells": [
    {
      "cell_type": "markdown",
      "metadata": {
        "id": "view-in-github",
        "colab_type": "text"
      },
      "source": [
        "<a href=\"https://colab.research.google.com/github/evonyava/test/blob/main/%D0%9B%D0%A0_12_%D0%AF%D0%BA%D0%BE%D0%B2%D0%BB%D1%94%D0%B2_%D0%A4%D0%86%D0%A2_2_8.ipynb\" target=\"_parent\"><img src=\"https://colab.research.google.com/assets/colab-badge.svg\" alt=\"Open In Colab\"/></a>"
      ]
    },
    {
      "cell_type": "code",
      "execution_count": null,
      "metadata": {
        "id": "yztu2RE20h3O"
      },
      "outputs": [],
      "source": [
        "import numpy as np\n",
        "import scipy.integrate as spi\n",
        "\n",
        "def integrand_1(x):\n",
        "    return 1 / np.sqrt(2*x**2 + 1)\n",
        "\n",
        "def integrand_2(x):\n",
        "    return np.log(x + 2) / x\n",
        "\n",
        "def integrand_3(x):\n",
        "    return 1 / np.sqrt(x**2 + 2.3)\n",
        "\n",
        "def rectangle_method(f, a, b, n):\n",
        "    h = (b - a) / n\n",
        "    result = 0.0\n",
        "    for i in range(n):\n",
        "        result += f(a + i*h)\n",
        "    return result * h\n",
        "\n",
        "def simpsons_method(f, a, b, n):\n",
        "    if n % 2 == 1:\n",
        "        n += 1\n",
        "    h = (b - a) / n\n",
        "    result = f(a) + f(b)\n",
        "    for i in range(1, n, 2):\n",
        "        result += 4 * f(a + i * h)\n",
        "    for i in range(2, n-1, 2):\n",
        "        result += 2 * f(a + i * h)\n",
        "    return result * h / 3\n",
        "\n",
        "def trapezoidal_method(f, a, b, n):\n",
        "    h = (b - a) / n\n",
        "    result = 0.5 * (f(a) + f(b))\n",
        "    for i in range(1, n):\n",
        "        result += f(a + i * h)\n",
        "    return result * h\n",
        "\n",
        "a1, b1 = 0.8, 1.6\n",
        "a2, b2 = 1.2, 2\n",
        "a3, b3 = 0.32, 0.66\n",
        "\n",
        "result_rectangle_1 = rectangle_method(integrand_1, a1, b1, 10)\n",
        "print(f\"Метод прямокутників для Інтегралу №1: {result_rectangle_1:.6f}\")\n",
        "\n",
        "result_simpsons_2 = simpsons_method(integrand_2, a2, b2, 8)\n",
        "print(f\"Метод Сімпсона для Інтегралу №2: {result_simpsons_2:.6f}\")\n",
        "\n",
        "result_trapezoidal_3 = trapezoidal_method(integrand_3, a3, b3, 20)\n",
        "print(f\"Метод трапецій для Інтегралу №3: {result_trapezoidal_3:.6f}\")\n",
        "\n",
        "result_scipy_1 = spi.quad(integrand_1, a1, b1)[0]\n",
        "result_scipy_2 = spi.quad(integrand_2, a2, b2)[0]\n",
        "result_scipy_3 = spi.quad(integrand_3, a3, b3)[0]\n",
        "\n",
        "print(f\"Точне значення Інтегралу №1 (scipy): {result_scipy_1:.6f}\")\n",
        "print(f\"Точне значення Інтегралу №2 (scipy): {result_scipy_2:.6f}\")\n",
        "print(f\"Точне значення Інтегралу №3 (scipy): {result_scipy_3:.6f}\")\n"
      ]
    }
  ]
}